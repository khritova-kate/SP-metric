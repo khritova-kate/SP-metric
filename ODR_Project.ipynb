{
 "cells": [
  {
   "cell_type": "markdown",
   "metadata": {},
   "source": [
    "# ВЫБОР МЕТРИКИ В ЗАДАЧЕ «СТРУКТУРА-СВОЙСТВО» ДЛЯ ПОСТРОЕНИЯ ОБОБЩЕННОГО ДЕРЕВА РЕШЕНИЙ #"
   ]
  },
  {
   "cell_type": "code",
   "execution_count": 2,
   "metadata": {},
   "outputs": [],
   "source": [
    "import inputdata\n",
    "import klustmatr\n",
    "import ODR\n",
    "import alg\n",
    "\n",
    "from sklearn.decomposition import PCA\n",
    "from sklearn.preprocessing import StandardScaler\n",
    "from sklearn.model_selection import train_test_split"
   ]
  },
  {
   "cell_type": "markdown",
   "metadata": {},
   "source": [
    "## Входные данные ##\n",
    "### Признаки ###\n",
    "  \n",
    "В качестве примера рассмотрим выборку `DB_GLASS`. Выборка `DB_GLASS` содержит 103 структуры полимеров. Целевым свойством является температура стеклования – температура, при которой некоторые свойства жидкости, такие как коэффициент теплового расширения и теплоемкость изменяются от их значений в жидком состоянии до значений, аналогичных значениям кристаллического твердого тела."
   ]
  },
  {
   "cell_type": "code",
   "execution_count": 3,
   "metadata": {},
   "outputs": [
    {
     "name": "stdout",
     "output_type": "stream",
     "text": [
      "select data directory:\n",
      " 1 - DB_AMN\n",
      " 2 - DB_CANCERF4\n",
      " 3 - DB_GLASS\n"
     ]
    },
    {
     "name": "stdin",
     "output_type": "stream",
     "text": [
      " 3\n"
     ]
    }
   ],
   "source": [
    "dir_name = inputdata.read_dir()"
   ]
  },
  {
   "cell_type": "markdown",
   "metadata": {},
   "source": [
    "Для описания каждой выборки формируются МД-матрицы.  \n",
    "Сложность описания М-графов индуктивно увеличивается. Признаками М-графа являются его инварианты, для конструирования которых вводится алфавит примитивов, описывающих графы.  \n",
    "Сложность описания химических структур зависит от уровня инвариантов (число примитивов, для которых считается количество повторений) k = 1, 2, 3 и количества включенных маркеров m = 1, 2,3."
   ]
  },
  {
   "cell_type": "code",
   "execution_count": 4,
   "metadata": {},
   "outputs": [
    {
     "name": "stdout",
     "output_type": "stream",
     "text": [
      "select file:\n",
      " 1 - matrk1m3.txt\n",
      " 2 - matrk2m1.txt\n",
      " 3 - matrk2m2.txt\n",
      " 4 - matrk2m3.txt\n",
      " 5 - matrk3m1.txt\n",
      " 6 - matrk3m2.txt\n",
      " 7 - matrk3m3.txt\n"
     ]
    },
    {
     "name": "stdin",
     "output_type": "stream",
     "text": [
      " 4\n"
     ]
    }
   ],
   "source": [
    "file_name = inputdata.read_file()"
   ]
  },
  {
   "cell_type": "markdown",
   "metadata": {},
   "source": [
    "Для визуализации, спроектируем данные на плоскость с помощью алгоритма PCA."
   ]
  },
  {
   "cell_type": "code",
   "execution_count": 5,
   "metadata": {},
   "outputs": [
    {
     "name": "stdout",
     "output_type": "stream",
     "text": [
      "select dimension of feature space:\n",
      " 1 - PCA (1 principal component)\n",
      " 2 - PCA (2 principal components)\n",
      " 3 - PCA (3 principal components)\n",
      " 4 - all features\n"
     ]
    },
    {
     "name": "stdin",
     "output_type": "stream",
     "text": [
      " 2\n"
     ]
    }
   ],
   "source": [
    "dim = inputdata.read_PCA()"
   ]
  },
  {
   "cell_type": "markdown",
   "metadata": {},
   "source": [
    "### Свойства ###\n",
    "Из файла `propeties.txt` считываем размер MD-матрицы, после чего считываем MD-матрицу `X` и вектор свойств `Y`."
   ]
  },
  {
   "cell_type": "code",
   "execution_count": 6,
   "metadata": {},
   "outputs": [],
   "source": [
    "x_len, y_len = inputdata.get_propeties(dir_name + \"propeties.txt\", file_name)\n",
    "X = inputdata.get_matr(dir_name + file_name, x_len, y_len)\n",
    "if (\"DB_AMN\" in dir_name):\n",
    "    Y = inputdata.get_propities_DB_AMN(dir_name + \"propeties.txt\", y_len)\n",
    "elif (\"DB_CANCERF4\" in dir_name):\n",
    "    Y = inputdata.get_propeties_DB_CANCERF4_A1(dir_name + \"propeties.txt\", y_len)\n",
    "elif (\"DB_GLASS\" in dir_name):\n",
    "    Y = inputdata.get_propeties_DB_GLASS(dir_name + \"propeties.txt\", y_len)"
   ]
  },
  {
   "cell_type": "markdown",
   "metadata": {},
   "source": [
    "Нормализуем данные и применяем применяем алгоритм PCA."
   ]
  },
  {
   "cell_type": "code",
   "execution_count": 7,
   "metadata": {},
   "outputs": [],
   "source": [
    "scaler = StandardScaler()\n",
    "X_scaled = scaler.fit_transform(X)  \n",
    "pca = PCA(n_components = dim)\n",
    "PrincipalComp = pca.fit_transform(X_scaled)"
   ]
  },
  {
   "cell_type": "markdown",
   "metadata": {},
   "source": [
    "Визуализируем данные."
   ]
  },
  {
   "cell_type": "code",
   "execution_count": 7,
   "metadata": {},
   "outputs": [
    {
     "name": "stdin",
     "output_type": "stream",
     "text": [
      "plot result (y/n):  y\n"
     ]
    },
    {
     "data": {
      "image/png": "[encoded data removed]",
      "text/plain": [
       "<Figure size 432x288 with 1 Axes>"
      ]
     },
     "metadata": {
      "needs_background": "light"
     },
     "output_type": "display_data"
    }
   ],
   "source": [
    "enter = input(\"plot result (y/n): \")\n",
    "if enter.startswith('y'):\n",
    "    klustmatr.plot_PC(dim, PrincipalComp)"
   ]
  },
  {
   "cell_type": "markdown",
   "metadata": {},
   "source": [
    "## Модель ##\n",
    "Модель строится на основе гребневой регрессии с оценкой $R^2$"
   ]
  },
  {
   "cell_type": "code",
   "execution_count": null,
   "metadata": {},
   "outputs": [],
   "source": [
    "from sklearn.linear_model    import Ridge\n",
    "\n",
    "def ridge(X_train, X_test, y_train, y_test):\n",
    "    res = 0\n",
    "    first = True\n",
    "    for alfa in {0.000001, 0.00001, 0.0001, 0.001, 0.01, 0.1, 1, 10, 100}:\n",
    "        model = Ridge(alpha = alfa).fit(X_train, y_train)\n",
    "        if (len(y_test) == 1):\n",
    "           current_res = 1 - (y_test[0] - model.predict(X_test)[0])**2 / (4*y_test[0])\n",
    "        else:        \n",
    "            current_res = model.score(X_test, y_test)\n",
    "    \n",
    "    if current_res > res or first:\n",
    "                res = current_res\n",
    "                prediction =  model.predict(X_test)\n",
    "                first = False\n",
    "    \n",
    "    return res, prediction   "
   ]
  },
  {
   "cell_type": "markdown",
   "metadata": {},
   "source": [
    "На вход функции подаются:\n",
    "- число кластеров `n_clusters`\n",
    "- метки кластеров для обучающей и тестовой выборки `y_alg_train`,`y_alg_test` \n",
    "- обучающая и тестовая выборки `X_train`,`Y_train` и `X_test`,`Y_test`\n",
    "\n",
    "Для каждого кластера отбираем все точки из обучающей и тестовой выборок, попавших в него. По отобранным точкам из тестовой выборки строим модель гребневой регрессии. Далее выполняется прогноз.\n",
    "Если точки из тестовой выборки не попали ни в один кластер или в кластере нет точек из обучающей выборки, то выполняется отказ от прогноза и эти точки не учувствуют в оценке качества ОДР."
   ]
  },
  {
   "cell_type": "code",
   "execution_count": null,
   "metadata": {},
   "outputs": [],
   "source": [
    "def ridge_model_cluster(n_clusters, y_alg_train, y_alg_test, X_train, X_test,\\\n",
    "                        Y_train, Y_test):\n",
    "    Y_res     = list()\n",
    "    Y_compare = list()\n",
    "    markers = [None]*n_clusters\n",
    "    n = 0\n",
    "    \n",
    "    for i in range(n_clusters):\n",
    "        if (n < len(y_alg_test)):\n",
    "            beg = 0\n",
    "            while (klustmatr.in_markers(markers,i,y_alg_test[beg]) and beg < len(y_alg_test)-1):\n",
    "                beg += 1\n",
    "            markers[i] = y_alg_test[beg]\n",
    "        \n",
    "            X_clust_train, y_clust_train = klustmatr.get_cluster_points(\\\n",
    "                  X_train, Y_train, markers[i], y_alg_train, len(y_alg_train))\n",
    "            X_clust_test,  y_clust_test  = klustmatr.get_cluster_points(\\\n",
    "                                X_test, Y_test, markers[i], y_alg_test, len(y_alg_test))\n",
    "            \n",
    "            if (len(y_clust_test) > 0 and len(y_clust_train) > 0):\n",
    "                Y_compare += y_clust_test\n",
    "                ridge_res, y_res = ridge(X_clust_train, X_clust_test,\n",
    "                                               y_clust_train, y_clust_test)\n",
    "                Y_res += y_res.tolist()\n",
    "                n += len(y_res)\n",
    "    \n",
    "    if (len(Y_res) > 1):        \n",
    "        return r2_score(Y_compare, Y_res)\n",
    "    elif(len(Y_res) == 1):\n",
    "        return 1 - (Y_compare[0] - Y_res[0])**2 / (4*Y_compare[0])\n",
    "    else:\n",
    "        return -10000"
   ]
  },
  {
   "cell_type": "markdown",
   "metadata": {},
   "source": [
    "## Пример ##\n",
    "\n",
    "Для начала воспользуемся обычной гребневой регрессией, без ОДР.  \n",
    "Видим, что $R^2$ оценка на тестовом множестве составляет `0.81`."
   ]
  },
  {
   "cell_type": "code",
   "execution_count": 9,
   "metadata": {},
   "outputs": [
    {
     "name": "stdin",
     "output_type": "stream",
     "text": [
      "cluster analysis algorithm (y/n):  n\n"
     ]
    },
    {
     "name": "stdout",
     "output_type": "stream",
     "text": [
      "Ridge (optimal alfa  10 ):\n",
      "Correctness on training set: 0.81\n",
      "Correctness on testing  set: 0.81\n",
      "\n"
     ]
    },
    {
     "name": "stdin",
     "output_type": "stream",
     "text": [
      "another algorithm (y/n):  n\n"
     ]
    }
   ],
   "source": [
    "alg.user_models(PrincipalComp,Y,dim)"
   ]
  },
  {
   "cell_type": "markdown",
   "metadata": {},
   "source": [
    "<br/>Теперь попробуем построить ОДР, используя алгоритм k-means и стандартную евклидову метрику. Число кластеров зададим равное `5`.  \n",
    "Результат разбиения множества признаков на кластеры показан ниже. Причем, большими точками обозначены объекты тестовой выборки, а маленькими - обучающей.\n",
    "Второе изображении - это профиль кластера.\n",
    "Также выводится сводная табличка, которая содержит информацию о среднем вектора свойств точек, попавших в кластер (это вещественные числа), количестве точек в кластере, а также отрезке, в котором лежат все значения признака.\n",
    "\n",
    "В конце выводится оченка качества модели.   \n",
    "Видим, что $R^2$ оценка на тестовом множестве составляет `0.95`"
   ]
  },
  {
   "cell_type": "code",
   "execution_count": 10,
   "metadata": {},
   "outputs": [
    {
     "name": "stdin",
     "output_type": "stream",
     "text": [
      "cluster analysis algorithm (y/n):  y\n"
     ]
    },
    {
     "name": "stdout",
     "output_type": "stream",
     "text": [
      "select cluster analysis algorithm:\n",
      " 1 - k-means\n",
      " 2 - EM\n",
      " 3 - DBSCAN\n",
      " 4 - None\n"
     ]
    },
    {
     "name": "stdin",
     "output_type": "stream",
     "text": [
      " 1\n",
      "   number of clusters:  5\n",
      "information about clusters (y/n)?  y\n"
     ]
    },
    {
     "data": {
      "image/png": "[encoded data removed]",
      "text/plain": [
       "<Figure size 432x288 with 1 Axes>"
      ]
     },
     "metadata": {
      "needs_background": "light"
     },
     "output_type": "display_data"
    },
    {
     "name": "stdout",
     "output_type": "stream",
     "text": [
      "K-Means:\n",
      "train-clusters propeties:\n",
      "information obout cluster propeties:\n",
      "cluster  0  : mean  123.5  , n of points  54  , [ 73.0  ,  213.0 ]\n",
      "cluster  4  : mean  404.0  , n of points  2  , [ 353.0  ,  455.0 ]\n",
      "cluster  1  : mean  363.077  , n of points  13  , [ 240.0  ,  440.0 ]\n",
      "cluster  3  : mean  182.667  , n of points  3  , [ 176.0  ,  188.0 ]\n",
      "cluster  2  : mean  406.0  , n of points  5  , [ 388.0  ,  417.0 ]\n",
      "Markers :  [0, 4, 1, 3, 2]\n",
      "Errors  :  [7305.0, 510.0, 2993.846, 66.667, 180.0]\n",
      "\n"
     ]
    },
    {
     "data": {
      "image/png": "[encoded data removed]",
      "text/plain": [
       "<Figure size 432x288 with 5 Axes>"
      ]
     },
     "metadata": {
      "needs_background": "light"
     },
     "output_type": "display_data"
    },
    {
     "name": "stdout",
     "output_type": "stream",
     "text": [
      "PCA:  2 components\n",
      "cluster analysis algorithm: K-Means\n",
      "Correctness on testing  set: 0.95\n",
      "\n"
     ]
    },
    {
     "name": "stdin",
     "output_type": "stream",
     "text": [
      "another algorithm (y/n):  n\n"
     ]
    }
   ],
   "source": [
    "alg.user_models(PrincipalComp,Y,dim)"
   ]
  },
  {
   "cell_type": "markdown",
   "metadata": {},
   "source": [
    "<br/>Теперь попробуем построить ОДР, используя алгоритм DBSCAN с параметрами `eps = 2`, `min_samples = 5` и стандартную евклидову метрику.\n",
    "\n",
    "Видим, что $R^2$ оценка на тестовом множестве составляет `0.91`"
   ]
  },
  {
   "cell_type": "code",
   "execution_count": 8,
   "metadata": {},
   "outputs": [
    {
     "name": "stdin",
     "output_type": "stream",
     "text": [
      "cluster analysis algorithm (y/n):  y\n"
     ]
    },
    {
     "name": "stdout",
     "output_type": "stream",
     "text": [
      "select cluster analysis algorithm:\n",
      " 1 - k-means\n",
      " 2 - EM\n",
      " 3 - DBSCAN\n",
      " 4 - None\n"
     ]
    },
    {
     "name": "stdin",
     "output_type": "stream",
     "text": [
      " 3\n",
      "   eps (for ex. 2):  2\n",
      "   min_samples (for ex. 2):  5\n"
     ]
    },
    {
     "name": "stdout",
     "output_type": "stream",
     "text": [
      "select cmetric:\n",
      " 1 - Euclidean\n",
      " 2 - Minkowski\n",
      " 3 - Chebyshev\n",
      "\n"
     ]
    },
    {
     "name": "stdin",
     "output_type": "stream",
     "text": [
      " 1\n",
      "information about clusters (y/n)?  y\n"
     ]
    },
    {
     "data": {
      "image/png": "[encoded data removed]",
      "text/plain": [
       "<Figure size 432x288 with 1 Axes>"
      ]
     },
     "metadata": {
      "needs_background": "light"
     },
     "output_type": "display_data"
    },
    {
     "name": "stdout",
     "output_type": "stream",
     "text": [
      "DBSCAN:\n",
      "train-clusters propeties:\n",
      "information obout cluster propeties:\n",
      "cluster  0  : mean  170.25  , n of points  68  , [ 73.0  ,  440.0 ]\n",
      "cluster  -1  : mean  355.333  , n of points  9  , [ 176.0  ,  455.0 ]\n",
      "Markers :  [0, -1]\n",
      "Errors  :  [10585.0, 1412.0]\n",
      "\n"
     ]
    },
    {
     "data": {
      "image/png": "[encoded data removed]",
      "text/plain": [
       "<Figure size 432x288 with 2 Axes>"
      ]
     },
     "metadata": {
      "needs_background": "light"
     },
     "output_type": "display_data"
    },
    {
     "name": "stdout",
     "output_type": "stream",
     "text": [
      "PCA:  2 components\n",
      "cluster analysis algorithm: K-Means\n",
      "Correctness on testing  set: 0.91\n",
      "\n"
     ]
    },
    {
     "name": "stdin",
     "output_type": "stream",
     "text": [
      "another algorithm (y/n):  n\n"
     ]
    }
   ],
   "source": [
    "alg.user_models(PrincipalComp,Y,dim)"
   ]
  },
  {
   "cell_type": "markdown",
   "metadata": {},
   "source": [
    "<br/>Теперь попробуем построить ОДР, используя алгоритм DBSCAN с параметрами `eps = 2`, `min_samples = 5` метрику чебышева.  \n",
    "Заметим, что кластеры изменились.\n",
    "\n",
    "Видим, что $R^2$ оценка на тестовом множестве составляет `0.91`"
   ]
  },
  {
   "cell_type": "code",
   "execution_count": 8,
   "metadata": {},
   "outputs": [
    {
     "name": "stdin",
     "output_type": "stream",
     "text": [
      "cluster analysis algorithm (y/n):  y\n"
     ]
    },
    {
     "name": "stdout",
     "output_type": "stream",
     "text": [
      "select cluster analysis algorithm:\n",
      " 1 - k-means\n",
      " 2 - EM\n",
      " 3 - DBSCAN\n",
      " 4 - None\n"
     ]
    },
    {
     "name": "stdin",
     "output_type": "stream",
     "text": [
      " 3\n",
      "   eps (for ex. 2):  2\n",
      "   min_samples (for ex. 2):  5\n"
     ]
    },
    {
     "name": "stdout",
     "output_type": "stream",
     "text": [
      "select cmetric:\n",
      " 1 - Euclidean\n",
      " 2 - Minkowski\n",
      " 3 - Chebyshev\n",
      "\n"
     ]
    },
    {
     "name": "stdin",
     "output_type": "stream",
     "text": [
      " 3\n",
      "information about clusters (y/n)?  y\n"
     ]
    },
    {
     "data": {
      "image/png": "[encoded data removed]",
      "text/plain": [
       "<Figure size 432x288 with 1 Axes>"
      ]
     },
     "metadata": {
      "needs_background": "light"
     },
     "output_type": "display_data"
    },
    {
     "name": "stdout",
     "output_type": "stream",
     "text": [
      "DBSCAN:\n",
      "train-clusters propeties:\n",
      "information obout cluster propeties:\n",
      "cluster  0  : mean  170.25  , n of points  68  , [ 73.0  ,  440.0 ]\n",
      "cluster  -1  : mean  315.0  , n of points  5  , [ 176.0  ,  455.0 ]\n",
      "cluster  1  : mean  405.75  , n of points  4  , [ 388.0  ,  417.0 ]\n",
      "Markers :  [0, -1, 1]\n",
      "Errors  :  [15877.5, 1620.0, 106.5]\n",
      "\n"
     ]
    },
    {
     "data": {
      "image/png": "[encoded data removed]",
      "text/plain": [
       "<Figure size 432x288 with 3 Axes>"
      ]
     },
     "metadata": {
      "needs_background": "light"
     },
     "output_type": "display_data"
    },
    {
     "name": "stdout",
     "output_type": "stream",
     "text": [
      "PCA:  2 components\n",
      "cluster analysis algorithm: K-Means\n",
      "Correctness on testing  set: 0.91\n",
      "\n"
     ]
    },
    {
     "name": "stdin",
     "output_type": "stream",
     "text": [
      "another algorithm (y/n):  n\n"
     ]
    }
   ],
   "source": [
    "alg.user_models(PrincipalComp,Y,dim)"
   ]
  }
 ],
 "metadata": {
  "kernelspec": {
   "display_name": "Python 3",
   "language": "python",
   "name": "python3"
  },
  "language_info": {
   "codemirror_mode": {
    "name": "ipython",
    "version": 3
   },
   "file_extension": ".py",
   "mimetype": "text/x-python",
   "name": "python",
   "nbconvert_exporter": "python",
   "pygments_lexer": "ipython3",
   "version": "3.7.6"
  }
 },
 "nbformat": 4,
 "nbformat_minor": 4
}
